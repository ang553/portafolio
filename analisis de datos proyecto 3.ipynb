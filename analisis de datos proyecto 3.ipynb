{
 "cells": [
  {
   "cell_type": "markdown",
   "id": "3fe9e8cc",
   "metadata": {},
   "source": [
    "# ¡Hola, José!  \n",
    "\n",
    "Mi nombre es Carlos Ortiz, soy code reviewer de TripleTen y voy a revisar el proyecto que acabas de desarrollar.\n",
    "\n",
    "Cuando vea un error la primera vez, lo señalaré. Deberás encontrarlo y arreglarlo. La intención es que te prepares para un espacio real de trabajo. En un trabajo, el líder de tu equipo hará lo mismo. Si no puedes solucionar el error, te daré más información en la próxima ocasión. \n",
    "\n",
    "Encontrarás mis comentarios más abajo - **por favor, no los muevas, no los modifiques ni los borres**.\n",
    "\n",
    "¿Cómo lo voy a hacer? Voy a leer detenidamente cada una de las implementaciones que has llevado a cabo para cumplir con lo solicitado. Verás los comentarios de esta forma:\n",
    "\n",
    "<div class=\"alert alert-block alert-success\">\n",
    "<b>Comentario del revisor</b> <a class=\"tocSkip\"></a>\n",
    "    \n",
    "Si todo está perfecto.\n",
    "</div>\n",
    "\n",
    "\n",
    "<div class=\"alert alert-block alert-warning\">\n",
    "<b>Comentario del revisor</b> <a class=\"tocSkip\"></a>\n",
    "    \n",
    "Si tu código está bien pero se puede mejorar o hay algún detalle que le hace falta.\n",
    "</div>\n",
    "\n",
    "\n",
    "<div class=\"alert alert-block alert-danger\">\n",
    "    \n",
    "<b>Comentario del revisor</b> <a class=\"tocSkip\"></a>\n",
    "    \n",
    "    \n",
    "Si de pronto hace falta algo o existe algún problema con tu código o conclusiones.\n",
    "</div>\n",
    "\n",
    "\n",
    "Puedes responderme de esta forma: \n",
    "\n",
    "\n",
    "<div class=\"alert alert-block alert-info\">\n",
    "<b>Respuesta del estudiante</b> <a class=\"tocSkip\"></a>\n",
    "</div>\n",
    "¡Empecemos!"
   ]
  },
  {
   "cell_type": "markdown",
   "id": "3Xg_RQfnafXz",
   "metadata": {
    "id": "3Xg_RQfnafXz"
   },
   "source": [
    "# ¡Llena ese carrito!"
   ]
  },
  {
   "cell_type": "markdown",
   "id": "mhIvmmkW414q",
   "metadata": {
    "id": "mhIvmmkW414q"
   },
   "source": [
    "# Introducción\n",
    "\n",
    "Instacart es una plataforma de entregas de comestibles donde la clientela puede registrar un pedido y hacer que se lo entreguen, similar a Uber Eats y Door Dash.\n",
    "El conjunto de datos que te hemos proporcionado tiene modificaciones del original. Redujimos el tamaño del conjunto para que tus cálculos se hicieran más rápido e introdujimos valores ausentes y duplicados. Tuvimos cuidado de conservar las distribuciones de los datos originales cuando hicimos los cambios.\n",
    "\n",
    "Debes completar tres pasos. Para cada uno de ellos, escribe una breve introducción que refleje con claridad cómo pretendes resolver cada paso, y escribe párrafos explicatorios que justifiquen tus decisiones al tiempo que avanzas en tu solución.  También escribe una conclusión que resuma tus hallazgos y elecciones.\n"
   ]
  },
  {
   "cell_type": "markdown",
   "id": "3MbyzpOQZ5Or",
   "metadata": {
    "id": "3MbyzpOQZ5Or"
   },
   "source": [
    "## Diccionario de datos\n",
    "\n",
    "Hay cinco tablas en el conjunto de datos, y tendrás que usarlas todas para hacer el preprocesamiento de datos y el análisis exploratorio de datos. A continuación se muestra un diccionario de datos que enumera las columnas de cada tabla y describe los datos que contienen.\n",
    "\n",
    "- `instacart_orders.csv`: cada fila corresponde a un pedido en la aplicación Instacart.\n",
    "    - `'order_id'`: número de ID que identifica de manera única cada pedido.\n",
    "    - `'user_id'`: número de ID que identifica de manera única la cuenta de cada cliente.\n",
    "    - `'order_number'`: el número de veces que este cliente ha hecho un pedido.\n",
    "    - `'order_dow'`: día de la semana en que se hizo el pedido (0 si es domingo).\n",
    "    - `'order_hour_of_day'`: hora del día en que se hizo el pedido.\n",
    "    - `'days_since_prior_order'`: número de días transcurridos desde que este cliente hizo su pedido anterior.\n",
    "- `products.csv`: cada fila corresponde a un producto único que pueden comprar los clientes.\n",
    "    - `'product_id'`: número ID que identifica de manera única cada producto.\n",
    "    - `'product_name'`: nombre del producto.\n",
    "    - `'aisle_id'`: número ID que identifica de manera única cada categoría de pasillo de víveres.\n",
    "    - `'department_id'`: número ID que identifica de manera única cada departamento de víveres.\n",
    "- `order_products.csv`: cada fila corresponde a un artículo pedido en un pedido.\n",
    "    - `'order_id'`: número de ID que identifica de manera única cada pedido.\n",
    "    - `'product_id'`: número ID que identifica de manera única cada producto.\n",
    "    - `'add_to_cart_order'`: el orden secuencial en el que se añadió cada artículo en el carrito.\n",
    "    - `'reordered'`: 0 si el cliente nunca ha pedido este producto antes, 1 si lo ha pedido.\n",
    "- `aisles.csv`\n",
    "    - `'aisle_id'`: número ID que identifica de manera única cada categoría de pasillo de víveres.\n",
    "    - `'aisle'`: nombre del pasillo.\n",
    "- `departments.csv`\n",
    "    - `'department_id'`: número ID que identifica de manera única cada departamento de víveres.\n",
    "    - `'department'`: nombre del departamento."
   ]
  },
  {
   "cell_type": "markdown",
   "id": "n3Ha_cNSZ8lK",
   "metadata": {
    "id": "n3Ha_cNSZ8lK"
   },
   "source": [
    "# Paso 1. Descripción de los datos\n",
    "\n",
    "Lee los archivos de datos (`/datasets/instacart_orders.csv`, `/datasets/products.csv`, `/datasets/aisles.csv`, `/datasets/departments.csv` y `/datasets/order_products.csv`) con `pd.read_csv()` usando los parámetros adecuados para leer los datos correctamente. Verifica la información para cada DataFrame creado.\n"
   ]
  },
  {
   "cell_type": "markdown",
   "id": "OmlQPLlyaAfR",
   "metadata": {
    "id": "OmlQPLlyaAfR"
   },
   "source": [
    "## Plan de solución\n",
    "\n",
    "Escribe aquí tu plan de solución para el Paso 1. Descripción de los datos."
   ]
  },
  {
   "cell_type": "code",
   "execution_count": 57,
   "id": "fbf1adab",
   "metadata": {
    "id": "fbf1adab"
   },
   "outputs": [],
   "source": [
    "# importar librerías\n",
    "import pandas as pd\n",
    "import numpy as np\n",
    "import matplotlib.pyplot as plt"
   ]
  },
  {
   "cell_type": "code",
   "execution_count": 58,
   "id": "ad36396d",
   "metadata": {
    "id": "ad36396d"
   },
   "outputs": [],
   "source": [
    "# leer conjuntos de datos en los DataFrames\n",
    "df_ordenes = pd.read_csv(\"/datasets/instacart_orders.csv\", sep=\";\")\n",
    "df_productos = pd.read_csv(\"/datasets/products.csv\", sep=\";\")\n",
    "df_pasillo = pd.read_csv(\"/datasets/aisles.csv\", sep=\";\")\n",
    "df_departamentos = pd.read_csv(\"/datasets/departments.csv\", sep=\";\")\n",
    "df_productos_orden = pd.read_csv(\"/datasets/order_products.csv\", sep=\";\")\n"
   ]
  },
  {
   "cell_type": "markdown",
   "id": "6f976c0f",
   "metadata": {},
   "source": [
    "<div class=\"alert alert-block alert-success\">\n",
    "<b>Comentario del revisor</b> <a class=\"tocSkip\"></a>\n",
    "    \n",
    "Buen trabajo con la importación de datos y de librerías.\n",
    "</div>"
   ]
  },
  {
   "cell_type": "code",
   "execution_count": 59,
   "id": "ad6a1efa",
   "metadata": {
    "id": "ad6a1efa"
   },
   "outputs": [
    {
     "name": "stdout",
     "output_type": "stream",
     "text": [
      "        order_id  user_id  order_number  order_dow  order_hour_of_day  \\\n",
      "0        1515936   183418            11          6                 13   \n",
      "1        1690866   163593             5          5                 12   \n",
      "2        1454967    39980             4          5                 19   \n",
      "3        1768857    82516            56          0                 20   \n",
      "4        3007858   196724             2          4                 12   \n",
      "...          ...      ...           ...        ...                ...   \n",
      "478962   3210681     5617             5          1                 14   \n",
      "478963   3270802   112087             2          3                 13   \n",
      "478964    885349    82944            16          2                 11   \n",
      "478965    216274     4391             3          3                  8   \n",
      "478966   2071924     1730            18          1                 14   \n",
      "\n",
      "        days_since_prior_order  \n",
      "0                         30.0  \n",
      "1                          9.0  \n",
      "2                          2.0  \n",
      "3                         10.0  \n",
      "4                         17.0  \n",
      "...                        ...  \n",
      "478962                     7.0  \n",
      "478963                     6.0  \n",
      "478964                     6.0  \n",
      "478965                     8.0  \n",
      "478966                    15.0  \n",
      "\n",
      "[478967 rows x 6 columns]\n",
      "<class 'pandas.core.frame.DataFrame'>\n",
      "RangeIndex: 478967 entries, 0 to 478966\n",
      "Data columns (total 6 columns):\n",
      " #   Column                  Non-Null Count   Dtype  \n",
      "---  ------                  --------------   -----  \n",
      " 0   order_id                478967 non-null  int64  \n",
      " 1   user_id                 478967 non-null  int64  \n",
      " 2   order_number            478967 non-null  int64  \n",
      " 3   order_dow               478967 non-null  int64  \n",
      " 4   order_hour_of_day       478967 non-null  int64  \n",
      " 5   days_since_prior_order  450148 non-null  float64\n",
      "dtypes: float64(1), int64(5)\n",
      "memory usage: 21.9 MB\n"
     ]
    }
   ],
   "source": [
    "# mostrar información del DataFrame\n",
    "print(df_ordenes)\n",
    "df_ordenes.info()"
   ]
  },
  {
   "cell_type": "code",
   "execution_count": 60,
   "id": "5130e05e",
   "metadata": {
    "id": "5130e05e"
   },
   "outputs": [
    {
     "name": "stdout",
     "output_type": "stream",
     "text": [
      "       product_id                                       product_name  \\\n",
      "0               1                         Chocolate Sandwich Cookies   \n",
      "1               2                                   All-Seasons Salt   \n",
      "2               3               Robust Golden Unsweetened Oolong Tea   \n",
      "3               4  Smart Ones Classic Favorites Mini Rigatoni Wit...   \n",
      "4               5                          Green Chile Anytime Sauce   \n",
      "...           ...                                                ...   \n",
      "49689       49690                      HIGH PERFORMANCE ENERGY DRINK   \n",
      "49690       49691                      ORIGINAL PANCAKE & WAFFLE MIX   \n",
      "49691       49692    ORGANIC INSTANT OATMEAL LIGHT MAPLE BROWN SUGAR   \n",
      "49692       49693                             SPRING WATER BODY WASH   \n",
      "49693       49694                            BURRITO- STEAK & CHEESE   \n",
      "\n",
      "       aisle_id  department_id  \n",
      "0            61             19  \n",
      "1           104             13  \n",
      "2            94              7  \n",
      "3            38              1  \n",
      "4             5             13  \n",
      "...         ...            ...  \n",
      "49689        64              7  \n",
      "49690       130             14  \n",
      "49691       130             14  \n",
      "49692       127             11  \n",
      "49693        38              1  \n",
      "\n",
      "[49694 rows x 4 columns]\n",
      "<class 'pandas.core.frame.DataFrame'>\n",
      "RangeIndex: 49694 entries, 0 to 49693\n",
      "Data columns (total 4 columns):\n",
      " #   Column         Non-Null Count  Dtype \n",
      "---  ------         --------------  ----- \n",
      " 0   product_id     49694 non-null  int64 \n",
      " 1   product_name   48436 non-null  object\n",
      " 2   aisle_id       49694 non-null  int64 \n",
      " 3   department_id  49694 non-null  int64 \n",
      "dtypes: int64(3), object(1)\n",
      "memory usage: 1.5+ MB\n"
     ]
    }
   ],
   "source": [
    "# mostrar información del DataFrame\n",
    "print(df_productos)\n",
    "df_productos.info()"
   ]
  },
  {
   "cell_type": "code",
   "execution_count": 61,
   "id": "d8370c05",
   "metadata": {
    "id": "d8370c05"
   },
   "outputs": [
    {
     "name": "stdout",
     "output_type": "stream",
     "text": [
      "     aisle_id                       aisle\n",
      "0           1       prepared soups salads\n",
      "1           2           specialty cheeses\n",
      "2           3         energy granola bars\n",
      "3           4               instant foods\n",
      "4           5  marinades meat preparation\n",
      "..        ...                         ...\n",
      "129       130    hot cereal pancake mixes\n",
      "130       131                   dry pasta\n",
      "131       132                      beauty\n",
      "132       133  muscles joints pain relief\n",
      "133       134  specialty wines champagnes\n",
      "\n",
      "[134 rows x 2 columns]\n",
      "<class 'pandas.core.frame.DataFrame'>\n",
      "RangeIndex: 134 entries, 0 to 133\n",
      "Data columns (total 2 columns):\n",
      " #   Column    Non-Null Count  Dtype \n",
      "---  ------    --------------  ----- \n",
      " 0   aisle_id  134 non-null    int64 \n",
      " 1   aisle     134 non-null    object\n",
      "dtypes: int64(1), object(1)\n",
      "memory usage: 2.2+ KB\n"
     ]
    }
   ],
   "source": [
    "# mostrar información del DataFrame\n",
    "print(df_pasillo)\n",
    "df_pasillo.info()"
   ]
  },
  {
   "cell_type": "code",
   "execution_count": 62,
   "id": "59e2090f",
   "metadata": {
    "id": "59e2090f"
   },
   "outputs": [
    {
     "name": "stdout",
     "output_type": "stream",
     "text": [
      "    department_id       department\n",
      "0               1           frozen\n",
      "1               2            other\n",
      "2               3           bakery\n",
      "3               4          produce\n",
      "4               5          alcohol\n",
      "5               6    international\n",
      "6               7        beverages\n",
      "7               8             pets\n",
      "8               9  dry goods pasta\n",
      "9              10             bulk\n",
      "10             11    personal care\n",
      "11             12     meat seafood\n",
      "12             13           pantry\n",
      "13             14        breakfast\n",
      "14             15     canned goods\n",
      "15             16       dairy eggs\n",
      "16             17        household\n",
      "17             18           babies\n",
      "18             19           snacks\n",
      "19             20             deli\n",
      "20             21          missing\n",
      "<class 'pandas.core.frame.DataFrame'>\n",
      "RangeIndex: 21 entries, 0 to 20\n",
      "Data columns (total 2 columns):\n",
      " #   Column         Non-Null Count  Dtype \n",
      "---  ------         --------------  ----- \n",
      " 0   department_id  21 non-null     int64 \n",
      " 1   department     21 non-null     object\n",
      "dtypes: int64(1), object(1)\n",
      "memory usage: 464.0+ bytes\n"
     ]
    }
   ],
   "source": [
    "# mostrar información del DataFrame\n",
    "print(df_departamentos)\n",
    "df_departamentos.info()"
   ]
  },
  {
   "cell_type": "code",
   "execution_count": 63,
   "id": "6fc81694",
   "metadata": {
    "id": "6fc81694"
   },
   "outputs": [
    {
     "name": "stdout",
     "output_type": "stream",
     "text": [
      "         order_id  product_id  add_to_cart_order  reordered\n",
      "0         2141543       11440               17.0          0\n",
      "1          567889        1560                1.0          1\n",
      "2         2261212       26683                1.0          1\n",
      "3          491251        8670               35.0          1\n",
      "4         2571142        1940                5.0          1\n",
      "...           ...         ...                ...        ...\n",
      "4545002    577211       15290               12.0          1\n",
      "4545003   1219554       21914                9.0          0\n",
      "4545004    692640       47766                4.0          1\n",
      "4545005    319435         691                8.0          1\n",
      "4545006   1398151       28733                9.0          0\n",
      "\n",
      "[4545007 rows x 4 columns]\n",
      "<class 'pandas.core.frame.DataFrame'>\n",
      "RangeIndex: 4545007 entries, 0 to 4545006\n",
      "Data columns (total 4 columns):\n",
      " #   Column             Dtype  \n",
      "---  ------             -----  \n",
      " 0   order_id           int64  \n",
      " 1   product_id         int64  \n",
      " 2   add_to_cart_order  float64\n",
      " 3   reordered          int64  \n",
      "dtypes: float64(1), int64(3)\n",
      "memory usage: 138.7 MB\n"
     ]
    },
    {
     "data": {
      "text/plain": [
       "order_id               0\n",
       "product_id             0\n",
       "add_to_cart_order    836\n",
       "reordered              0\n",
       "dtype: int64"
      ]
     },
     "execution_count": 63,
     "metadata": {},
     "output_type": "execute_result"
    }
   ],
   "source": [
    "# mostrar información del DataFrame\n",
    "print(df_productos_orden)\n",
    "df_productos_orden.info()\n",
    "df_productos_orden.isnull().sum()\n"
   ]
  },
  {
   "cell_type": "markdown",
   "id": "t75BD19oaR5f",
   "metadata": {
    "id": "t75BD19oaR5f"
   },
   "source": [
    "## Conclusiones\n",
    "\n",
    "Escribe aquí tus conclusiones intermedias sobre el Paso 1. Descripción de los datos.\n",
    "\n",
    "bueno a lo que voy viendo parece ser que mi primer df que es el df_ordenes viene separado por ;, tambien veo que en tiene valores nulos la columna days_since_prior_order\n",
    "\n",
    "el segundo df que en este caso le puse df_productos tiene el mismo problema que el primer df el cual es que viene separados por  ; este tiene un columna con valores nulos el cual es product_name \n",
    "\n",
    "el tercer df el cual es df_pasillo tiene el mismo problema que los 2 primeros df el cual es que viene separados por ; este df no tiene valores nulos en sus columnas.\n",
    "\n",
    "el cuarto df el cual es df_departamentos tiene el mismo problema que los ultimos 3 df el cual es que viene separado por ;, este df no tiene valores nulos.\n",
    "\n",
    "el ultimo df el cual es df_productos_orden tiene el mismo problema de los ultimos 4 df el cual es que viene separado por ;\n",
    "en este caso puse el info() pero note que no me dio los valores nulos asi que tuve que usar isnull().sum() para obtener los valores nulos en este caso es el add_to_cart_order \n",
    "\n",
    "order_id, user_id, product_id, aisle_id y department_id  lo pasaremos a categorico, ya que no tenemos pensado hacer operaciones con order_id no sera necesario tenerlo como numerico. el id lo entiendo como un identificador del producto el cual solo se usa un numero como refenrecia para identificar el producto mas no se piensa usarlo como para hacer operaciones con este. "
   ]
  },
  {
   "cell_type": "markdown",
   "id": "34bc1083",
   "metadata": {},
   "source": [
    "<div class=\"alert alert-block alert-success\">\n",
    "<b>Comentario del revisor</b> <a class=\"tocSkip\"></a>\n",
    "    \n",
    "Buen trabajo con esta exploración inicial de los datos.\n",
    "</div>"
   ]
  },
  {
   "cell_type": "markdown",
   "id": "8RJHqxVmaVsF",
   "metadata": {
    "id": "8RJHqxVmaVsF"
   },
   "source": [
    "# Paso 2. Preprocesamiento de los datos\n",
    "\n",
    "Preprocesa los datos de la siguiente manera:\n",
    "\n",
    "- Verifica y corrige los tipos de datos (por ejemplo, asegúrate de que las columnas de ID sean números enteros).\n",
    "- Identifica y completa los valores ausentes.\n",
    "- Identifica y elimina los valores duplicados.\n",
    "\n",
    "Asegúrate de explicar qué tipos de valores ausentes y duplicados encontraste, cómo los completaste o eliminaste y por qué usaste esos métodos. ¿Por qué crees que estos valores ausentes y duplicados pueden haber estado presentes en el conjunto de datos?"
   ]
  },
  {
   "cell_type": "markdown",
   "id": "p6poABZQaZYb",
   "metadata": {
    "id": "p6poABZQaZYb"
   },
   "source": [
    "## Plan de solución\n",
    "\n",
    "Escribe aquí tu plan para el Paso 2. Preprocesamiento de los datos."
   ]
  },
  {
   "cell_type": "markdown",
   "id": "07357848-dc64-4156-9cc3-01ff4365226d",
   "metadata": {
    "id": "07357848-dc64-4156-9cc3-01ff4365226d"
   },
   "source": [
    "## Encuentra y elimina los valores duplicados (y describe cómo tomaste tus decisiones)."
   ]
  },
  {
   "cell_type": "markdown",
   "id": "f179f0a9",
   "metadata": {
    "id": "f179f0a9"
   },
   "source": [
    "### `orders` data frame"
   ]
  },
  {
   "cell_type": "code",
   "execution_count": 64,
   "id": "b99297a5-405a-463d-8535-9adc3da4ad74",
   "metadata": {
    "id": "b99297a5-405a-463d-8535-9adc3da4ad74"
   },
   "outputs": [
    {
     "name": "stdout",
     "output_type": "stream",
     "text": [
      "el total de duplicados en el df_ordenes son 15\n",
      "        order_id  user_id  order_number  order_dow  order_hour_of_day  \\\n",
      "30371    1918001   188546            14          3                  2   \n",
      "99462     794638    50898            24          3                  2   \n",
      "119251    408114    68324             4          3                  2   \n",
      "142258   2845099    31189            11          3                  2   \n",
      "145574    794638    50898            24          3                  2   \n",
      "164581   1112182   202304            84          3                  2   \n",
      "200059   1782114   106752             1          3                  2   \n",
      "204042   2125197    14050            48          3                  2   \n",
      "215294   2160484   107525            16          3                  2   \n",
      "223105   2160484   107525            16          3                  2   \n",
      "230807   1918001   188546            14          3                  2   \n",
      "242618   1021560    53767             3          3                  2   \n",
      "250626    467134    63189            21          3                  2   \n",
      "257934   1919531   191501            32          3                  2   \n",
      "259636   2282673    86751            49          3                  2   \n",
      "266232   1782114   106752             1          3                  2   \n",
      "273805   1112182   202304            84          3                  2   \n",
      "284038   2845099    31189            11          3                  2   \n",
      "311713   1021560    53767             3          3                  2   \n",
      "314427   1286742   183220            48          3                  2   \n",
      "321100    408114    68324             4          3                  2   \n",
      "323900   1919531   191501            32          3                  2   \n",
      "324868   2232988    82565             1          3                  2   \n",
      "345917   2232988    82565             1          3                  2   \n",
      "354993    391768    57671            19          3                  2   \n",
      "371905    391768    57671            19          3                  2   \n",
      "394347    467134    63189            21          3                  2   \n",
      "411408   1286742   183220            48          3                  2   \n",
      "415163   2282673    86751            49          3                  2   \n",
      "441599   2125197    14050            48          3                  2   \n",
      "\n",
      "        days_since_prior_order  \n",
      "30371                     16.0  \n",
      "99462                      2.0  \n",
      "119251                    18.0  \n",
      "142258                     7.0  \n",
      "145574                     2.0  \n",
      "164581                     6.0  \n",
      "200059                     NaN  \n",
      "204042                     3.0  \n",
      "215294                    30.0  \n",
      "223105                    30.0  \n",
      "230807                    16.0  \n",
      "242618                     9.0  \n",
      "250626                     2.0  \n",
      "257934                     7.0  \n",
      "259636                     2.0  \n",
      "266232                     NaN  \n",
      "273805                     6.0  \n",
      "284038                     7.0  \n",
      "311713                     9.0  \n",
      "314427                     4.0  \n",
      "321100                    18.0  \n",
      "323900                     7.0  \n",
      "324868                     NaN  \n",
      "345917                     NaN  \n",
      "354993                    10.0  \n",
      "371905                    10.0  \n",
      "394347                     2.0  \n",
      "411408                     4.0  \n",
      "415163                     2.0  \n",
      "441599                     3.0  \n",
      "el total de duplicados en el df_ordenes son 0\n",
      "el numero de duplicados en el df_pasillo son 0\n",
      "el numero de duplicados en el df_departamentos son 0\n",
      "el numero de duplicados en el df_productos_orden son 0\n"
     ]
    }
   ],
   "source": [
    "# Revisa si hay pedidos duplicados\n",
    "num_duplicados_df_ordenes = df_ordenes.duplicated().sum()\n",
    "print(f\"el total de duplicados en el df_ordenes son {num_duplicados_df_ordenes}\")\n",
    "duplicados_df_ordenes = df_ordenes[df_ordenes.duplicated(keep=False)]\n",
    "print(duplicados_df_ordenes)\n",
    "#nota del df_ordenes vamos a eliminar los duplicados son identicos en las columnas asi que los vamos a eliminar\n",
    "num_duplicados_df_productos = df_productos.duplicated().sum()\n",
    "print(f\"el total de duplicados en el df_ordenes son {num_duplicados_df_productos}\")\n",
    "#nota en nuestro segundo df no vamos a eliminar ni un duplicado por que no hay \n",
    "num_duplicados_df_pasillo = df_pasillo.duplicated().sum()\n",
    "print(f\"el numero de duplicados en el df_pasillo son {num_duplicados_df_pasillo}\")\n",
    "num_duplicados_df_departamentos = df_departamentos.duplicated().sum()\n",
    "print(f\"el numero de duplicados en el df_departamentos son {num_duplicados_df_departamentos}\")\n",
    "num_duplicados_df_productos_orden = df_productos_orden.duplicated().sum()\n",
    "print(f\"el numero de duplicados en el df_productos_orden son {num_duplicados_df_productos_orden}\")\n",
    "\n"
   ]
  },
  {
   "cell_type": "markdown",
   "id": "PEkwUX_gvt5A",
   "metadata": {
    "id": "PEkwUX_gvt5A"
   },
   "source": [
    "¿Tienes líneas duplicadas? Si sí, ¿qué tienen en común?"
   ]
  },
  {
   "cell_type": "code",
   "execution_count": 65,
   "id": "0d44de5d",
   "metadata": {
    "id": "0d44de5d"
   },
   "outputs": [
    {
     "name": "stdout",
     "output_type": "stream",
     "text": [
      "        order_id  user_id  order_number  order_dow  order_hour_of_day  \\\n",
      "4838     2766110   162084            41          3                  2   \n",
      "5156     2190225   138285            18          3                  2   \n",
      "15506     553049    58599            13          3                  2   \n",
      "18420     382357   120200            19          3                  2   \n",
      "24691     690242    77357             2          3                  2   \n",
      "...          ...      ...           ...        ...                ...   \n",
      "457013   3384021    14881             6          3                  2   \n",
      "458816    910166   164782            18          3                  2   \n",
      "459635   1680532   106435             6          3                  2   \n",
      "468324    222962    54979            59          3                  2   \n",
      "477526   2592344    46860            38          3                  2   \n",
      "\n",
      "        days_since_prior_order  \n",
      "4838                      16.0  \n",
      "5156                      11.0  \n",
      "15506                      7.0  \n",
      "18420                     11.0  \n",
      "24691                      9.0  \n",
      "...                        ...  \n",
      "457013                    30.0  \n",
      "458816                     4.0  \n",
      "459635                    21.0  \n",
      "468324                     3.0  \n",
      "477526                     3.0  \n",
      "\n",
      "[121 rows x 6 columns]\n"
     ]
    }
   ],
   "source": [
    "# Basándote en tus hallazgos,\n",
    "# Verifica todos los pedidos que se hicieron el miércoles a las 2:00 a.m.\n",
    "miercoles_2pm = df_ordenes[(df_ordenes[\"order_dow\"] == 3) & (df_ordenes[\"order_hour_of_day\"] == 2)]\n",
    "print(miercoles_2pm)"
   ]
  },
  {
   "cell_type": "markdown",
   "id": "vu2OWyoqwOx5",
   "metadata": {
    "id": "vu2OWyoqwOx5"
   },
   "source": [
    "¿Qué sugiere este resultado? Con solo 121 pedidos de casi 479,000, los pedidos realizados el miércoles a las 2:00 a.m. representan una fracción muy pequeña podemos decir que menos del 1%, esto tambien nos confirma la calidad de los datos ya que seria algo inusual que hubieran tantas ordenes a esta hora de la madrugada, considernado que es entre semana. "
   ]
  },
  {
   "cell_type": "code",
   "execution_count": 66,
   "id": "480563c7",
   "metadata": {
    "id": "480563c7"
   },
   "outputs": [],
   "source": [
    "# Elimina los pedidos duplicados\n",
    "df_ordenes = df_ordenes.drop_duplicates()\n",
    "df_ordenes.reset_index(drop=True, inplace=True)"
   ]
  },
  {
   "cell_type": "code",
   "execution_count": 67,
   "id": "0b2396a2",
   "metadata": {
    "id": "0b2396a2"
   },
   "outputs": [
    {
     "data": {
      "text/plain": [
       "0"
      ]
     },
     "execution_count": 67,
     "metadata": {},
     "output_type": "execute_result"
    }
   ],
   "source": [
    "# Vuelve a verificar si hay filas duplicadas\n",
    "df_ordenes.duplicated().sum()"
   ]
  },
  {
   "cell_type": "code",
   "execution_count": 68,
   "id": "f6113ef1",
   "metadata": {
    "id": "f6113ef1"
   },
   "outputs": [
    {
     "data": {
      "text/plain": [
       "0"
      ]
     },
     "execution_count": 68,
     "metadata": {},
     "output_type": "execute_result"
    }
   ],
   "source": [
    "# Vuelve a verificar únicamente si hay IDs duplicados de pedidos\n",
    "df_ordenes[\"order_id\"].duplicated().sum()"
   ]
  },
  {
   "cell_type": "markdown",
   "id": "5e8905ae",
   "metadata": {
    "id": "5e8905ae"
   },
   "source": [
    "Describe brevemente tus hallazgos y lo que hiciste con ellos \n",
    "Se identificaron y eliminaron un total de 15 filas duplicadas en el DataFrame df_ordenes. Este paso fue crucial para asegurar la precisión y fiabilidad de los datos para el análisis posterio. se realizo un filtro para identificar que tantos pedidos se hacen los miercoles a las 2 A.M lo cual nos dio como resultado menos del 1% en pedidos hechos, lo cual nos dice que no es una hora donde se hagan tantas ordenes. "
   ]
  },
  {
   "cell_type": "markdown",
   "id": "45e6bc46",
   "metadata": {
    "id": "45e6bc46"
   },
   "source": [
    "### `products` data frame"
   ]
  },
  {
   "cell_type": "code",
   "execution_count": 69,
   "id": "5f526b5b-8175-46fa-a0fd-441767d50e64",
   "metadata": {
    "id": "5f526b5b-8175-46fa-a0fd-441767d50e64"
   },
   "outputs": [
    {
     "data": {
      "text/plain": [
       "0"
      ]
     },
     "execution_count": 69,
     "metadata": {},
     "output_type": "execute_result"
    }
   ],
   "source": [
    "# Verifica si hay filas totalmente duplicadas\n",
    "df_productos.duplicated().sum()"
   ]
  },
  {
   "cell_type": "code",
   "execution_count": 70,
   "id": "88daa4f4",
   "metadata": {
    "id": "88daa4f4"
   },
   "outputs": [
    {
     "name": "stdout",
     "output_type": "stream",
     "text": [
      "0\n"
     ]
    }
   ],
   "source": [
    "# Verifica únicamente si hay IDs duplicadas de productos\n",
    "duplicado_producto_id = df_productos['product_id'].duplicated().sum()\n",
    "print(duplicado_producto_id)"
   ]
  },
  {
   "cell_type": "code",
   "execution_count": 71,
   "id": "c773f0bf",
   "metadata": {
    "id": "c773f0bf"
   },
   "outputs": [
    {
     "name": "stdout",
     "output_type": "stream",
     "text": [
      "1361\n"
     ]
    }
   ],
   "source": [
    "# Revisa únicamente si hay nombres duplicados de productos (convierte los nombres a letras mayúsculas para compararlos mejor)\n",
    "duplicados_product_name = df_productos[\"product_name\"].str.upper().duplicated().sum()\n",
    "print(duplicados_product_name)"
   ]
  },
  {
   "cell_type": "code",
   "execution_count": 72,
   "id": "01efd02e",
   "metadata": {
    "id": "01efd02e"
   },
   "outputs": [
    {
     "data": {
      "text/plain": [
       "104"
      ]
     },
     "execution_count": 72,
     "metadata": {},
     "output_type": "execute_result"
    }
   ],
   "source": [
    "# Revisa si hay nombres duplicados de productos no faltantes\n",
    "df_productos[df_productos[\"product_name\"].notna()][\"product_name\"].str.upper().duplicated().sum()\n",
    "\n"
   ]
  },
  {
   "cell_type": "markdown",
   "id": "9da8d293",
   "metadata": {
    "id": "9da8d293"
   },
   "source": [
    "Describe brevemente tus hallazgos y lo que hiciste con ellos.\n",
    "De los 49,694 productos en df_productos, hay 1361 nombres de productos que están duplicados.\n",
    "Al excluir los productos con nombres faltantes (nulos), el número de nombres de productos duplicados se reduce a 104. \n",
    "Lo cual nos dice que la mayoria de nombres duplicados son de nombres de producto faltantes."
   ]
  },
  {
   "cell_type": "markdown",
   "id": "25074f9f",
   "metadata": {},
   "source": [
    "<div class=\"alert alert-block alert-success\">\n",
    "<b>Comentario del revisor</b> <a class=\"tocSkip\"></a>\n",
    "    \n",
    "Buen trabajo.\n",
    "</div>"
   ]
  },
  {
   "cell_type": "markdown",
   "id": "60f30db1",
   "metadata": {
    "id": "60f30db1"
   },
   "source": [
    "### `departments` data frame"
   ]
  },
  {
   "cell_type": "code",
   "execution_count": 73,
   "id": "fb410ad4-0fbf-4b80-bb09-23fdea79afe3",
   "metadata": {
    "id": "fb410ad4-0fbf-4b80-bb09-23fdea79afe3"
   },
   "outputs": [
    {
     "data": {
      "text/plain": [
       "0"
      ]
     },
     "execution_count": 73,
     "metadata": {},
     "output_type": "execute_result"
    }
   ],
   "source": [
    "# Revisa si hay filas totalmente duplicadas\n",
    "df_departamentos.duplicated().sum()"
   ]
  },
  {
   "cell_type": "code",
   "execution_count": 74,
   "id": "332b12bb",
   "metadata": {
    "id": "332b12bb"
   },
   "outputs": [
    {
     "data": {
      "text/plain": [
       "0"
      ]
     },
     "execution_count": 74,
     "metadata": {},
     "output_type": "execute_result"
    }
   ],
   "source": [
    "# Revisa únicamente si hay IDs duplicadas de productos\n",
    "df_departamentos[\"department_id\"].duplicated().sum()"
   ]
  },
  {
   "cell_type": "markdown",
   "id": "bd30d78e",
   "metadata": {
    "id": "bd30d78e"
   },
   "source": [
    "Describe brevemente tus hallazgos y lo que hiciste con ellos.\n",
    "department_id no tiene problema de duplicados"
   ]
  },
  {
   "cell_type": "markdown",
   "id": "889349c1",
   "metadata": {
    "id": "889349c1"
   },
   "source": [
    "### `aisles` data frame"
   ]
  },
  {
   "cell_type": "code",
   "execution_count": 75,
   "id": "9da89fb9-4679-40f5-ad0d-c34df753a3f8",
   "metadata": {
    "id": "9da89fb9-4679-40f5-ad0d-c34df753a3f8"
   },
   "outputs": [
    {
     "data": {
      "text/plain": [
       "0"
      ]
     },
     "execution_count": 75,
     "metadata": {},
     "output_type": "execute_result"
    }
   ],
   "source": [
    "# Revisa si hay filas totalmente duplicadas\n",
    "df_pasillo.duplicated().sum()"
   ]
  },
  {
   "cell_type": "code",
   "execution_count": 76,
   "id": "da7c2822",
   "metadata": {
    "id": "da7c2822"
   },
   "outputs": [
    {
     "data": {
      "text/plain": [
       "0"
      ]
     },
     "execution_count": 76,
     "metadata": {},
     "output_type": "execute_result"
    }
   ],
   "source": [
    "# Revisa únicamente si hay IDs duplicadas de productos\n",
    "df_pasillo[\"aisle_id\"].duplicated().sum()"
   ]
  },
  {
   "cell_type": "markdown",
   "id": "ac63826f",
   "metadata": {
    "id": "ac63826f"
   },
   "source": [
    "Describe brevemente tus hallazgos y lo que hiciste con ellos.\n",
    "aisle_id no tiene porblema de duplicados"
   ]
  },
  {
   "cell_type": "markdown",
   "id": "274cd06a",
   "metadata": {
    "id": "274cd06a"
   },
   "source": [
    "### `order_products` data frame"
   ]
  },
  {
   "cell_type": "code",
   "execution_count": 77,
   "id": "52326689-84a8-4b8f-a881-7c68780f62c9",
   "metadata": {
    "id": "52326689-84a8-4b8f-a881-7c68780f62c9"
   },
   "outputs": [
    {
     "data": {
      "text/plain": [
       "0"
      ]
     },
     "execution_count": 77,
     "metadata": {},
     "output_type": "execute_result"
    }
   ],
   "source": [
    "# Revisa si hay filas totalmente duplicadas\n",
    "df_productos_orden.duplicated().sum()"
   ]
  },
  {
   "cell_type": "code",
   "execution_count": 78,
   "id": "7b861391",
   "metadata": {
    "id": "7b861391"
   },
   "outputs": [
    {
     "name": "stdout",
     "output_type": "stream",
     "text": [
      "la cantidad de duplicados en 'product_id' son 4499434\n",
      "la cantidad de duplicados de 'order_id' son 4094961 \n"
     ]
    }
   ],
   "source": [
    "# Vuelve a verificar si hay cualquier otro duplicado engañoso\n",
    "orden_products = df_productos_orden[\"product_id\"].duplicated().sum()\n",
    "print(f\"la cantidad de duplicados en 'product_id' son {orden_products}\")\n",
    "order_products2 = df_productos_orden[\"order_id\"].duplicated().sum()\n",
    "print(f\"la cantidad de duplicados de 'order_id' son {order_products2} \")\n"
   ]
  },
  {
   "cell_type": "markdown",
   "id": "0b890492",
   "metadata": {
    "id": "0b890492"
   },
   "source": [
    "Describe brevemente tus hallazgos y lo que hiciste con ellos.\n",
    "Este alto número (4499434) indica que muchos product_id, nos dice que aparece mas en el df, esto no es ningun  problema ya que es de esperarse que un producto se venda en múltiples pedidos. \n",
    "\n",
    "Similarmente, un alto número de duplicados en order_id no es necesariamente problemático. Esto significa que un solo pedido (order_id) contiene varios productos, asi que podemos decir que order_id se repite cada vez que agregamos un nuevo producto."
   ]
  },
  {
   "cell_type": "markdown",
   "id": "c30ea1cd",
   "metadata": {},
   "source": [
    "<div class=\"alert alert-block alert-success\">\n",
    "<b>Comentario del revisor</b> <a class=\"tocSkip\"></a>\n",
    "    \n",
    "Buen trabajo en esta sección.\n",
    "</div>"
   ]
  },
  {
   "cell_type": "markdown",
   "id": "1e46de76",
   "metadata": {
    "id": "1e46de76"
   },
   "source": [
    "## Encuentra y elimina los valores ausentes\n",
    "\n",
    "Al trabajar con valores duplicados, pudimos observar que también nos falta investigar valores ausentes:\n",
    "\n",
    "* La columna `'product_name'` de la tabla products.\n",
    "* La columna `'days_since_prior_order'` de la tabla orders.\n",
    "* La columna `'add_to_cart_order'` de la tabla order_productos."
   ]
  },
  {
   "cell_type": "markdown",
   "id": "c0aebd78",
   "metadata": {
    "id": "c0aebd78"
   },
   "source": [
    "### `products` data frame"
   ]
  },
  {
   "cell_type": "code",
   "execution_count": 79,
   "id": "fe4a8b0f",
   "metadata": {
    "id": "fe4a8b0f"
   },
   "outputs": [
    {
     "name": "stdout",
     "output_type": "stream",
     "text": [
      "los valores nulos del df_productos son 1258\n",
      "el total de filas del df_productos son 49694\n",
      "los porcentaje nulos del df_productos son 2.53\n"
     ]
    }
   ],
   "source": [
    "# Encuentra los valores ausentes en la columna 'product_name'\n",
    "valores_nulos_df_productos = df_productos[\"product_name\"].isnull().sum()\n",
    "print(f\"los valores nulos del df_productos son {valores_nulos_df_productos}\")\n",
    "total_filas_df_productos = len(df_productos)\n",
    "print(f\"el total de filas del df_productos son {total_filas_df_productos}\")\n",
    "porcentaje_nulos_df_productos = (valores_nulos_df_productos / total_filas_df_productos) * 100\n",
    "porcentaje_nulos_df_productos = round(porcentaje_nulos_df_productos, 2)\n",
    "print(f\"los porcentaje nulos del df_productos son {porcentaje_nulos_df_productos}\")"
   ]
  },
  {
   "cell_type": "markdown",
   "id": "-A6x1AbJhjkp",
   "metadata": {
    "id": "-A6x1AbJhjkp"
   },
   "source": [
    "Describe brevemente cuáles son tus hallazgos.\n",
    "En el df_productos, que tiene 49,694 filas, se encontraron 1,258 valores nulos en la columna 'product_name'. Esto representa aproximadamente el 2.53% del total de las entradas. Aunque la mayoría de los productos tienen nombres asignados, este porcentaje de valores nulos no es insignificante y podría influir en análisis que dependen de información completa de los productos."
   ]
  },
  {
   "cell_type": "code",
   "execution_count": 80,
   "id": "e96167bc",
   "metadata": {
    "id": "e96167bc"
   },
   "outputs": [
    {
     "name": "stdout",
     "output_type": "stream",
     "text": [
      "       product_id product_name  aisle_id  department_id\n",
      "34437       34438          NaN       100             21\n",
      "11390       11391          NaN       100             21\n",
      "33282       33283          NaN       100             21\n",
      "16969       16970          NaN       100             21\n",
      "5091         5092          NaN       100             21\n",
      "39417       39418          NaN       100             21\n",
      "22318       22319          NaN       100             21\n",
      "los valores nulos en el pasillo 100 son 1258\n"
     ]
    }
   ],
   "source": [
    "#  ¿Todos los nombres de productos ausentes están relacionados con el pasillo con ID 100?\n",
    "productos_sin_nombre = df_productos[df_productos[\"product_name\"].isnull()]\n",
    "print(productos_sin_nombre.sample(7))\n",
    "contar_en_pasillo_100 = sum(productos_sin_nombre[\"aisle_id\"] == 100)\n",
    "print(f\"los valores nulos en el pasillo 100 son {contar_en_pasillo_100}\")"
   ]
  },
  {
   "cell_type": "markdown",
   "id": "WRpIfXRphpSL",
   "metadata": {
    "id": "WRpIfXRphpSL"
   },
   "source": [
    "Describe brevemente cuáles son tus hallazgos.\n",
    "podemos ver que si, todos los valores ausentes estan en el pasillo 100, ya que tenemos 1258 valores ausentes y nos salio que en el pasillo 100 hay 1258 valores ausentes. "
   ]
  },
  {
   "cell_type": "code",
   "execution_count": 81,
   "id": "8fd0a541",
   "metadata": {
    "id": "8fd0a541"
   },
   "outputs": [
    {
     "name": "stdout",
     "output_type": "stream",
     "text": [
      " los valores nulos en el departamento 21 son 1258\n"
     ]
    }
   ],
   "source": [
    "# ¿Todos los nombres de productos ausentes están relacionados con el departamento con ID 21?\n",
    "contar_en_id_21 = sum(productos_sin_nombre[\"department_id\"] == 21)\n",
    "print(f\" los valores nulos en el departamento 21 son {contar_en_id_21}\")"
   ]
  },
  {
   "cell_type": "markdown",
   "id": "qDpdYn1Fht_I",
   "metadata": {
    "id": "qDpdYn1Fht_I"
   },
   "source": [
    "Describe brevemente cuáles son tus hallazgos.\n",
    "los valores nulos estan ralcionados con el departamento 21."
   ]
  },
  {
   "cell_type": "code",
   "execution_count": 82,
   "id": "325c3464",
   "metadata": {
    "id": "325c3464"
   },
   "outputs": [
    {
     "name": "stdout",
     "output_type": "stream",
     "text": [
      "los datos del pasillo 100 son:\n",
      "\n",
      "    aisle_id    aisle\n",
      "99       100  missing\n",
      "\n",
      "la informacion del departament_id 21 es:\n",
      "\n",
      "    department_id department\n",
      "20             21    missing\n"
     ]
    }
   ],
   "source": [
    "# Usa las tablas department y aisle para revisar los datos del pasillo con ID 100 y el departamento con ID 21.\n",
    "info_pasillo_100 = df_pasillo[df_pasillo[\"aisle_id\"] == 100]\n",
    "print(\"los datos del pasillo 100 son:\")\n",
    "print()\n",
    "print(info_pasillo_100)\n",
    "print()\n",
    "info_id_21 = df_departamentos[df_departamentos[\"department_id\"]== 21 ]\n",
    "print(\"la informacion del departament_id 21 es:\")\n",
    "print()\n",
    "print(info_id_21)\n"
   ]
  },
  {
   "cell_type": "markdown",
   "id": "nqhSTUPhhvEJ",
   "metadata": {
    "id": "nqhSTUPhhvEJ"
   },
   "source": [
    "Describe brevemente cuáles son tus hallazgos.\n",
    "el hecho de que nos salga \"missing\" lo podemos interpretar como que este departa y pasillo estan ausentes o no estan registrados."
   ]
  },
  {
   "cell_type": "code",
   "execution_count": 83,
   "id": "6b295120",
   "metadata": {
    "id": "6b295120"
   },
   "outputs": [
    {
     "name": "stdout",
     "output_type": "stream",
     "text": [
      "la cantidad de valores nulos en df_products en la columna product_name es 0\n",
      "\n",
      "\n",
      "<class 'pandas.core.frame.DataFrame'>\n",
      "RangeIndex: 49694 entries, 0 to 49693\n",
      "Data columns (total 4 columns):\n",
      " #   Column         Non-Null Count  Dtype \n",
      "---  ------         --------------  ----- \n",
      " 0   product_id     49694 non-null  int64 \n",
      " 1   product_name   49694 non-null  object\n",
      " 2   aisle_id       49694 non-null  int64 \n",
      " 3   department_id  49694 non-null  int64 \n",
      "dtypes: int64(3), object(1)\n",
      "memory usage: 1.5+ MB\n"
     ]
    }
   ],
   "source": [
    "# Completa los nombres de productos ausentes con 'Unknown'\n",
    "df_productos[\"product_name\"] = df_productos[\"product_name\"].fillna(\"unknown\")\n",
    "comporbacion_df_productos_null = df_productos[\"product_name\"].isnull().sum()\n",
    "print(f\"la cantidad de valores nulos en df_products en la columna product_name es {comporbacion_df_productos_null}\")\n",
    "print()\n",
    "print()\n",
    "df_productos.info()"
   ]
  },
  {
   "cell_type": "markdown",
   "id": "fc70e5ad",
   "metadata": {
    "id": "fc70e5ad"
   },
   "source": [
    "Describe brevemente tus hallazgos y lo que hiciste con ellos.\n",
    "le pusimos unknown a los valores nulos, ya que no tenemos contexto a que se debe el missing en el pasillo y departamento."
   ]
  },
  {
   "cell_type": "markdown",
   "id": "06aaedaf",
   "metadata": {},
   "source": [
    "<div class=\"alert alert-block alert-success\">\n",
    "<b>Comentario del revisor</b> <a class=\"tocSkip\"></a>\n",
    "    \n",
    "Buen trabajo.\n",
    "</div>"
   ]
  },
  {
   "cell_type": "markdown",
   "id": "7eb45c86",
   "metadata": {
    "id": "7eb45c86"
   },
   "source": [
    "### `orders` data frame"
   ]
  },
  {
   "cell_type": "code",
   "execution_count": 84,
   "id": "93e41d96",
   "metadata": {
    "id": "93e41d96"
   },
   "outputs": [
    {
     "name": "stdout",
     "output_type": "stream",
     "text": [
      "los valores ausentes del df ordenes en la columna days_since_prior_order son 28817\n",
      "\n",
      "\n",
      "        order_id  user_id  order_number  order_dow  order_hour_of_day  \\\n",
      "28        133707   182261             1          3                 10   \n",
      "96        787445    25685             1          6                 18   \n",
      "100       294410   111449             1          0                 19   \n",
      "103      2869915   123958             1          4                 16   \n",
      "104      2521921    42286             1          3                 18   \n",
      "...          ...      ...           ...        ...                ...   \n",
      "478880   2589657   205028             1          0                 16   \n",
      "478881   2222353   141211             1          2                 13   \n",
      "478907   2272807   204154             1          1                 15   \n",
      "478911   2499542    68810             1          4                 19   \n",
      "478930   1387033    22496             1          5                 14   \n",
      "\n",
      "        days_since_prior_order  \n",
      "28                         NaN  \n",
      "96                         NaN  \n",
      "100                        NaN  \n",
      "103                        NaN  \n",
      "104                        NaN  \n",
      "...                        ...  \n",
      "478880                     NaN  \n",
      "478881                     NaN  \n",
      "478907                     NaN  \n",
      "478911                     NaN  \n",
      "478930                     NaN  \n",
      "\n",
      "[28817 rows x 6 columns]\n"
     ]
    }
   ],
   "source": [
    "# Encuentra los valores ausentes\n",
    "ausentes_df_ordenes = df_ordenes['days_since_prior_order'].isnull().sum()\n",
    "print(f\"los valores ausentes del df ordenes en la columna days_since_prior_order son {ausentes_df_ordenes}\")\n",
    "print()\n",
    "print()\n",
    "df_ordenes_ausentes = df_ordenes[df_ordenes['days_since_prior_order'].isnull()]\n",
    "print(df_ordenes_ausentes)"
   ]
  },
  {
   "cell_type": "code",
   "execution_count": 85,
   "id": "166e5a86",
   "metadata": {
    "id": "166e5a86"
   },
   "outputs": [
    {
     "name": "stdout",
     "output_type": "stream",
     "text": [
      "28817\n"
     ]
    }
   ],
   "source": [
    "# ¿Hay algún valor ausente que no sea el primer pedido del cliente?\n",
    "df_ordenes_primer_pedido = sum(df_ordenes[\"order_number\"]== 1)\n",
    "print(df_ordenes_primer_pedido)"
   ]
  },
  {
   "cell_type": "markdown",
   "id": "4e23d089",
   "metadata": {
    "id": "4e23d089"
   },
   "source": [
    "Describe brevemente tus hallazgos y lo que hiciste con ellos.\n",
    "Basado en los datos, el motivo por el que hay datos nulos en la columna 'days_since_prior_order' es que estos pedidos son los primeros realizados por cada cliente. En el contexto de 'days_since_prior_order', un valor nulo es lógico para el primer pedido, ya que no hay un pedido anterior del cual calcular la cantidad de días. \n",
    "\n",
    "Dado que los valores nulos están justificados por el contexto de los datos, no hay necesidad de modificar estos valores. Los datos nulos en este caso son informativos y representan correctamente la situación de que no hay un pedido anterior."
   ]
  },
  {
   "cell_type": "markdown",
   "id": "69dc9ca4",
   "metadata": {
    "id": "69dc9ca4"
   },
   "source": [
    "### `order_products` data frame"
   ]
  },
  {
   "cell_type": "code",
   "execution_count": 86,
   "id": "b8240253",
   "metadata": {
    "id": "b8240253"
   },
   "outputs": [
    {
     "name": "stdout",
     "output_type": "stream",
     "text": [
      "los valores nulos en el df_productos_orden son 836 \n",
      "\n",
      "\n",
      "         order_id  product_id  add_to_cart_order  reordered\n",
      "737       2449164        5068                NaN          0\n",
      "9926      1968313       43867                NaN          0\n",
      "14394     2926893       11688                NaN          0\n",
      "16418     1717990        4142                NaN          0\n",
      "30114     1959075       42828                NaN          1\n",
      "...           ...         ...                ...        ...\n",
      "4505662   1800005        7411                NaN          0\n",
      "4511400   1633337         260                NaN          0\n",
      "4517562    404157        9517                NaN          0\n",
      "4534112   1673227       17835                NaN          0\n",
      "4535739   1832957       17949                NaN          1\n",
      "\n",
      "[836 rows x 4 columns]\n"
     ]
    }
   ],
   "source": [
    "# Encuentra los valores ausentes\n",
    "df_productos_orden_nulos = df_productos_orden[\"add_to_cart_order\"].isnull().sum()\n",
    "print(f\"los valores nulos en el df_productos_orden son {df_productos_orden_nulos} \")\n",
    "print()\n",
    "print()\n",
    "df_productos_orden_ausentes = df_productos_orden[df_productos_orden[\"add_to_cart_order\"].isnull()]\n",
    "print(df_productos_orden_ausentes)"
   ]
  },
  {
   "cell_type": "code",
   "execution_count": 87,
   "id": "9a78e5ee",
   "metadata": {
    "id": "9a78e5ee"
   },
   "outputs": [
    {
     "name": "stdout",
     "output_type": "stream",
     "text": [
      "el valor minimo de productos orden es 1.0\n",
      "\n",
      "\n",
      "el valor maximo de productos orden es 64.0\n"
     ]
    }
   ],
   "source": [
    "# ¿Cuáles son los valores mínimos y máximos en esta columna?\n",
    "min_productos_orden = df_productos_orden[\"add_to_cart_order\"].min()\n",
    "print(f\"el valor minimo de productos orden es {min_productos_orden}\")\n",
    "print()\n",
    "print()\n",
    "max_productos_orden = df_productos_orden[\"add_to_cart_order\"].max()\n",
    "print(f\"el valor maximo de productos orden es {max_productos_orden}\")"
   ]
  },
  {
   "cell_type": "markdown",
   "id": "-Z2Ja215jW78",
   "metadata": {
    "id": "-Z2Ja215jW78"
   },
   "source": [
    "Describe brevemente cuáles son tus hallazgos.\n",
    "La existencia de pedidos con hasta 64 productos sugiere que Instacart es utilizado no solo para compras pequeñas o específicas, sino también para compras más grandes y posiblemente para abastecimiento regular."
   ]
  },
  {
   "cell_type": "code",
   "execution_count": 88,
   "id": "ab9d0c2b",
   "metadata": {
    "id": "ab9d0c2b",
    "scrolled": true
   },
   "outputs": [
    {
     "name": "stdout",
     "output_type": "stream",
     "text": [
      "737        2449164\n",
      "9926       1968313\n",
      "14394      2926893\n",
      "16418      1717990\n",
      "30114      1959075\n",
      "            ...   \n",
      "4505662    1800005\n",
      "4511400    1633337\n",
      "4517562     404157\n",
      "4534112    1673227\n",
      "4535739    1832957\n",
      "Name: order_id, Length: 836, dtype: int64\n"
     ]
    }
   ],
   "source": [
    "# Guarda todas las IDs de pedidos que tengan un valor ausente en 'add_to_cart_order'\n",
    "ids_df_productos_ausentes = df_productos_orden_ausentes[\"order_id\"]\n",
    "print(ids_df_productos_ausentes)"
   ]
  },
  {
   "cell_type": "code",
   "execution_count": 89,
   "id": "54c31695",
   "metadata": {
    "id": "54c31695"
   },
   "outputs": [
    {
     "name": "stdout",
     "output_type": "stream",
     "text": [
      "True\n"
     ]
    }
   ],
   "source": [
    "# ¿Todos los pedidos con valores ausentes tienen más de 64 productos?\n",
    "# Agrupa todos los pedidos con datos ausentes por su ID de pedido.\n",
    "# Cuenta el número de 'product_id' en cada pedido y revisa el valor mínimo del conteo.\n",
    "\n",
    "\n",
    "df_productos_orden_ausentes = df_productos_orden[df_productos_orden[\"add_to_cart_order\"].isnull()]\n",
    "\n",
    "\n",
    "order_ids_con_ausentes = df_productos_orden_ausentes['order_id'].unique()\n",
    "\n",
    "\n",
    "df_pedidos_filtrados = df_productos_orden[df_productos_orden['order_id'].isin(order_ids_con_ausentes)]\n",
    "\n",
    "conteo_productos_por_pedido = df_pedidos_filtrados.groupby('order_id')['product_id'].count()\n",
    "\n",
    "\n",
    "todos_mayores_a_64 = conteo_productos_por_pedido.min() > 64\n",
    "print(todos_mayores_a_64)\n",
    "\n",
    "\n"
   ]
  },
  {
   "cell_type": "markdown",
   "id": "p9V6pddtjglj",
   "metadata": {
    "id": "p9V6pddtjglj"
   },
   "source": [
    "Describe brevemente cuáles son tus hallazgos.\n",
    " Esto sugiere que la ausencia de valores en 'add_to_cart_order' no está necesariamente relacionada con el tamaño del pedido."
   ]
  },
  {
   "cell_type": "code",
   "execution_count": 34,
   "id": "7a987d08",
   "metadata": {
    "id": "7a987d08"
   },
   "outputs": [
    {
     "name": "stdout",
     "output_type": "stream",
     "text": [
      "0          17\n",
      "1           1\n",
      "2           1\n",
      "3          35\n",
      "4           5\n",
      "           ..\n",
      "4545002    12\n",
      "4545003     9\n",
      "4545004     4\n",
      "4545005     8\n",
      "4545006     9\n",
      "Name: add_to_cart_order, Length: 4545007, dtype: int64\n",
      "<class 'pandas.core.frame.DataFrame'>\n",
      "RangeIndex: 4545007 entries, 0 to 4545006\n",
      "Data columns (total 4 columns):\n",
      " #   Column             Dtype\n",
      "---  ------             -----\n",
      " 0   order_id           int64\n",
      " 1   product_id         int64\n",
      " 2   add_to_cart_order  int64\n",
      " 3   reordered          int64\n",
      "dtypes: int64(4)\n",
      "memory usage: 138.7 MB\n"
     ]
    }
   ],
   "source": [
    "# Remplaza los valores ausentes en la columna 'add_to_cart? con 999 y convierte la columna al tipo entero.\n",
    "df_productos_orden[\"add_to_cart_order\"] = df_productos_orden[\"add_to_cart_order\"].fillna(999).astype(int)\n",
    "print(df_productos_orden[\"add_to_cart_order\"])\n",
    "df_productos_orden.info()"
   ]
  },
  {
   "cell_type": "markdown",
   "id": "fea4bcc7",
   "metadata": {
    "id": "fea4bcc7"
   },
   "source": [
    "Describe brevemente tus hallazgos y lo que hiciste con ellos.\n",
    " Después de aplicar los cambios, la columna 'add_to_cart_order' del DataFrame df_productos_orden ahora tiene todos sus valores ausentes reemplazados por 999 y ya no contiene valores nulos."
   ]
  },
  {
   "cell_type": "markdown",
   "id": "RnplPFY1gSrb",
   "metadata": {
    "id": "RnplPFY1gSrb"
   },
   "source": [
    "## Conclusiones\n",
    "\n",
    "Escribe aquí tus conclusiones intermedias sobre el Paso 2. Preprocesamiento de los datos\n",
    "Encontramos que aproximadamente el 2.53% de los nombres de productos en df_productos eran nulos. Estos valores nulos estaban notablemente asociados con el pasillo y el departamento etiquetados como 'missing', lo que sugiere una falta de información en ciertas categorías de productos.\n",
    "\n",
    "Ante la ausencia de contexto claro sobre estos valores nulos, se asignó el valor 'unknown' a los nombres de productos ausentes, manteniendo la integridad de los datos para análisis futuros.\n",
    "\n",
    "En df_ordenes, los valores nulos en 'days_since_prior_order' se asociaron lógicamente con los primeros pedidos de los clientes, proporcionando una comprensión contextual adecuada y justificando la decisión de no modificar estos valores.\n",
    "\n",
    "La revisión de la columna 'add_to_cart_order' reveló que los valores ausentes no estaban correlacionados con el tamaño del pedido, desafiando la hipótesis inicial de que podrían estar relacionados con pedidos grandes. Para mantener la consistencia, se reemplazaron estos valores ausentes con 999 y se convirtió la columna a tipo entero."
   ]
  },
  {
   "cell_type": "markdown",
   "id": "UjrOIwTcz3ri",
   "metadata": {
    "id": "UjrOIwTcz3ri"
   },
   "source": [
    "# Paso 3. Análisis de los datos\n",
    "\n",
    "Una vez los datos estén procesados y listos, haz el siguiente análisis:"
   ]
  },
  {
   "cell_type": "markdown",
   "id": "turkish-kidney",
   "metadata": {
    "id": "turkish-kidney"
   },
   "source": [
    "# [A] Fácil (deben completarse todos para aprobar)\n",
    "\n",
    "1. Verifica que los valores en las columnas `'order_hour_of_day'` y `'order_dow'` en la tabla orders sean razonables (es decir, `'order_hour_of_day'` oscile entre 0 y 23 y `'order_dow'` oscile entre 0 y 6).\n",
    "2. Crea un gráfico que muestre el número de personas que hacen pedidos dependiendo de la hora del día.\n",
    "3. Crea un gráfico que muestre qué día de la semana la gente hace sus compras.\n",
    "4. Crea un gráfico que muestre el tiempo que la gente espera hasta hacer su siguiente pedido, y comenta sobre los valores mínimos y máximos."
   ]
  },
  {
   "cell_type": "markdown",
   "id": "short-capability",
   "metadata": {
    "id": "short-capability"
   },
   "source": [
    "### [A1] Verifica que los valores sean sensibles"
   ]
  },
  {
   "cell_type": "code",
   "execution_count": 35,
   "id": "growing-fruit",
   "metadata": {
    "id": "growing-fruit"
   },
   "outputs": [
    {
     "name": "stdout",
     "output_type": "stream",
     "text": [
      "[ 0  1  2  3  4  5  6  7  8  9 10 11 12 13 14 15 16 17 18 19 20 21 22 23]\n"
     ]
    }
   ],
   "source": [
    "unique_df_ordenes = df_ordenes['order_hour_of_day'].unique()\n",
    "sort_unique_df_ordenes = np.sort(unique_df_ordenes)\n",
    "print(sort_unique_df_ordenes)\n"
   ]
  },
  {
   "cell_type": "code",
   "execution_count": 36,
   "id": "accessory-malaysia",
   "metadata": {
    "id": "accessory-malaysia"
   },
   "outputs": [
    {
     "name": "stdout",
     "output_type": "stream",
     "text": [
      "[0 1 2 3 4 5 6]\n"
     ]
    }
   ],
   "source": [
    "unique_df_ordenes2 = df_ordenes['order_dow'].unique()\n",
    "sort_unique_df_ordenes = np.sort(unique_df_ordenes2)\n",
    "print(sort_unique_df_ordenes)"
   ]
  },
  {
   "cell_type": "markdown",
   "id": "hmR2GNQ6lCsX",
   "metadata": {
    "id": "hmR2GNQ6lCsX"
   },
   "source": [
    "Escribe aquí tus conclusiones\n",
    "las columnas 'order_hour_of_day' y 'order_dow' en el df_ordenes son razonables (es decir, 'order_hour_of_day' oscile entre 0 y 23 y 'order_dow' oscile entre 0 y 6). esto la hacemos para confirmar que no haya un valor que no vaya de acuerdo a nuestra logica establecida en el df."
   ]
  },
  {
   "cell_type": "markdown",
   "id": "95a42243",
   "metadata": {},
   "source": [
    "<div class=\"alert alert-block alert-success\">\n",
    "<b>Comentario del revisor</b> <a class=\"tocSkip\"></a>\n",
    "    \n",
    "Buen trabajo.\n",
    "</div>"
   ]
  },
  {
   "cell_type": "markdown",
   "id": "a6743a70",
   "metadata": {
    "id": "a6743a70"
   },
   "source": [
    "### [A2] Para cada hora del día, ¿cuántas personas hacen órdenes?"
   ]
  },
  {
   "cell_type": "code",
   "execution_count": 37,
   "id": "a36cca27",
   "metadata": {
    "id": "a36cca27"
   },
   "outputs": [
    {
     "data": {
      "image/png": "[encoded data removed]",
      "text/plain": [
       "<Figure size 432x288 with 1 Axes>"
      ]
     },
     "metadata": {
      "needs_background": "light"
     },
     "output_type": "display_data"
    }
   ],
   "source": [
    "#Crea un gráfico que muestre el número de personas que hacen pedidos dependiendo de la hora del día.\n",
    "order_counts = df_ordenes.groupby('order_hour_of_day').size()\n",
    "\n",
    "order_counts.plot(kind='bar')\n",
    "\n",
    "plt.title('Número de Pedidos por Hora del Día')\n",
    "plt.xlabel('Hora del Día')\n",
    "plt.ylabel('Número de Pedidos')\n",
    "plt.xticks(rotation=0)\n",
    "\n",
    "plt.show()\n",
    "    \n",
    "    "
   ]
  },
  {
   "cell_type": "markdown",
   "id": "11270eed",
   "metadata": {
    "id": "11270eed"
   },
   "source": [
    "Escribe aquí tus conclusiones\n",
    "como podemos ver, las horas del dia donde se hacen mas pedidos son entre las 9 am y 4 pm. esto lo podemos ver como las horas donde se hacen mas pedidos.mientras que de la 1 a 5 am son las horas donde menos se hacen."
   ]
  },
  {
   "cell_type": "markdown",
   "id": "21a43566",
   "metadata": {},
   "source": [
    "<div class=\"alert alert-block alert-success\">\n",
    "<b>Comentario del revisor</b> <a class=\"tocSkip\"></a>\n",
    "    \n",
    "Bien hecho.\n",
    "</div>"
   ]
  },
  {
   "cell_type": "markdown",
   "id": "documented-command",
   "metadata": {
    "id": "documented-command"
   },
   "source": [
    "### [A3] ¿Qué día de la semana compran víveres las personas?"
   ]
  },
  {
   "cell_type": "code",
   "execution_count": 38,
   "id": "chief-digit",
   "metadata": {
    "id": "chief-digit"
   },
   "outputs": [
    {
     "data": {
      "image/png": "[encoded data removed]",
      "text/plain": [
       "<Figure size 432x288 with 1 Axes>"
      ]
     },
     "metadata": {
      "needs_background": "light"
     },
     "output_type": "display_data"
    }
   ],
   "source": [
    "#Crea un gráfico que muestre qué día de la semana la gente hace sus compras.\n",
    "ordenes_week = df_ordenes.groupby(\"order_dow\").size()\n",
    "ordenes_week.plot(kind=\"bar\",\n",
    "                  color='skyblue')\n",
    "plt.title('Distribución de Compras por Día de la Semana')  \n",
    "plt.xlabel('Día de la Semana')  \n",
    "plt.ylabel('Número de Compras')\n",
    "plt.xticks(ticks=range(7), labels=['Domingo', 'Lunes', 'Martes', 'Miércoles', 'Jueves', 'Viernes', 'Sábado'])\n",
    "\n",
    "\n",
    "plt.show()\n"
   ]
  },
  {
   "cell_type": "markdown",
   "id": "dominant-lightning",
   "metadata": {
    "id": "dominant-lightning"
   },
   "source": [
    "Escribe aquí tus conclusiones\n",
    "el domingo y el lunes son los dias donde mas se hacen compras y por un buen margen a compracion de los demas dias, aunque es importante recalcar que la diferencia entre martes (el dia de mas compras que no sea ni domingo ni lunes) y el jueves que es el dia que menos se vende, no es una diferencia tan grande. De hecho es una diferencia relativamente mininma de martes a sabado, no es tanta la diferencia como lo es de lunes a martes."
   ]
  },
  {
   "cell_type": "markdown",
   "id": "cutting-concert",
   "metadata": {
    "id": "cutting-concert"
   },
   "source": [
    "### [A4] ¿Cuánto tiempo esperan las personas hasta hacer otro pedido? Comenta sobre los valores mínimos y máximos."
   ]
  },
  {
   "cell_type": "code",
   "execution_count": 39,
   "id": "c231f523",
   "metadata": {
    "id": "c231f523"
   },
   "outputs": [
    {
     "name": "stdout",
     "output_type": "stream",
     "text": [
      "El tiempo mínimo entre pedidos es: 0.0 días\n",
      "El tiempo máximo entre pedidos es: 30.0 días\n"
     ]
    },
    {
     "data": {
      "image/png": "[encoded data removed]",
      "text/plain": [
       "<Figure size 432x288 with 1 Axes>"
      ]
     },
     "metadata": {
      "needs_background": "light"
     },
     "output_type": "display_data"
    }
   ],
   "source": [
    "min_days = df_ordenes['days_since_prior_order'].min()\n",
    "max_days = df_ordenes['days_since_prior_order'].max()\n",
    "print(f\"El tiempo mínimo entre pedidos es: {min_days} días\")\n",
    "print(f\"El tiempo máximo entre pedidos es: {max_days} días\")\n",
    "df_ordenes['days_since_prior_order'].hist(bins=31, edgecolor='black')\n",
    "plt.title('Distribución del Tiempo Hasta el Siguiente Pedido')\n",
    "plt.xlabel('Días Desde el Pedido Anterior')\n",
    "plt.ylabel('Número de Pedidos')\n",
    "plt.show()\n",
    "\n"
   ]
  },
  {
   "cell_type": "markdown",
   "id": "discrete-vertex",
   "metadata": {
    "id": "discrete-vertex"
   },
   "source": [
    "Escribe aquí tus conclusiones\n",
    "es interesante como el dia 8 y 30 son los dias donde mas se vuelve hacer el siguiente pedido, nos hace preguntarnos que tipo de productos o promociones hace que esos 2 dias son cuando se vuelven a hacer mas pedidos. tambien podmos notar como los primeros 10 dias es cuando mas se hace el siguien pedido, mientras que en los ultimos 10 dias es cuando menos se vuelven a hacer los pedidos (sin contar el dia 30 que es mas una excepcion). "
   ]
  },
  {
   "cell_type": "markdown",
   "id": "1e65c06b",
   "metadata": {},
   "source": [
    "<div class=\"alert alert-block alert-success\">\n",
    "<b>Comentario del revisor</b> <a class=\"tocSkip\"></a>\n",
    "    \n",
    "Buen trabajo.\n",
    "</div>"
   ]
  },
  {
   "cell_type": "markdown",
   "id": "tight-staff",
   "metadata": {
    "id": "tight-staff"
   },
   "source": [
    "# [B] Intermedio (deben completarse todos para aprobar)\n",
    "\n",
    "1. ¿Existe alguna diferencia entre las distribuciones `'order_hour_of_day'` de los miércoles y los sábados? Traza gráficos de barra de `'order_hour_of_day'` para ambos días en la misma figura y describe las diferencias que observes.\n",
    "2. Grafica la distribución para el número de órdenes que hacen los clientes (es decir, cuántos clientes hicieron solo 1 pedido, cuántos hicieron 2, cuántos 3, y así sucesivamente...).\n",
    "3. ¿Cuáles son los 20 principales productos que se piden con más frecuencia (muestra su identificación y nombre)?"
   ]
  },
  {
   "cell_type": "markdown",
   "id": "packed-classic",
   "metadata": {
    "id": "packed-classic"
   },
   "source": [
    "### [B1] Diferencia entre miércoles y sábados para  `'order_hour_of_day'`. Traza gráficos de barra para los dos días y describe las diferencias que veas."
   ]
  },
  {
   "cell_type": "code",
   "execution_count": 40,
   "id": "d89b8403",
   "metadata": {
    "id": "d89b8403"
   },
   "outputs": [
    {
     "data": {
      "image/png": "[encoded data removed]",
      "text/plain": [
       "<Figure size 1008x504 with 1 Axes>"
      ]
     },
     "metadata": {
      "needs_background": "light"
     },
     "output_type": "display_data"
    }
   ],
   "source": [
    "\n",
    "ordenes_miercoles = df_ordenes[df_ordenes['order_dow'] == 3]\n",
    "ordenes_sabado = df_ordenes[df_ordenes['order_dow'] == 6]\n",
    "\n",
    "conteo_miercoles = ordenes_miercoles.groupby('order_hour_of_day').size()\n",
    "conteo_sabado = ordenes_sabado.groupby('order_hour_of_day').size()\n",
    "\n",
    "plt.figure(figsize=(14, 7))\n",
    "\n",
    "plt.bar(conteo_miercoles.index - 0.2, conteo_miercoles.values, width=0.4, label='Miércoles', color='blue')\n",
    "\n",
    "plt.bar(conteo_sabado.index + 0.2, conteo_sabado.values, width=0.4, label='Sábado', color='orange')\n",
    "\n",
    "\n",
    "plt.title('Distribución de Pedidos por Hora del Día - Miércoles vs. Sábado')\n",
    "plt.xlabel('Hora del Día')\n",
    "plt.ylabel('Número de Pedidos')\n",
    "plt.legend()\n",
    "plt.xticks(ticks=range(0, 24))\n",
    "\n",
    "\n",
    "plt.show()\n"
   ]
  },
  {
   "cell_type": "markdown",
   "id": "de5b039c",
   "metadata": {
    "id": "94e54e8a"
   },
   "source": [
    "<div class=\"alert alert-block alert-success\">\n",
    "<b>Comentario del revisor</b> <a class=\"tocSkip\"></a>\n",
    "    \n",
    "Muy buen trabajo con esta gráfica.\n",
    "</div>"
   ]
  },
  {
   "cell_type": "code",
   "execution_count": null,
   "id": "797c90a8",
   "metadata": {
    "id": "797c90a8"
   },
   "outputs": [],
   "source": []
  },
  {
   "cell_type": "code",
   "execution_count": null,
   "id": "35bcea30",
   "metadata": {
    "id": "35bcea30"
   },
   "outputs": [],
   "source": []
  },
  {
   "cell_type": "markdown",
   "id": "charitable-congo",
   "metadata": {
    "id": "charitable-congo"
   },
   "source": [
    "Escribe aquí tus conclusiones\n",
    "podemos ver como de las 6 a 7 am hay mas pedidos los miercoles que los sabados, pero, de las 11 a 2 pm la diferencia entra sabado y miercoles es bastante considerable, apartir de las 2 vemos que hay mas pedidos el sabado pero la diferencia entre estas 2 es minima "
   ]
  },
  {
   "cell_type": "markdown",
   "id": "e3891143",
   "metadata": {
    "id": "e3891143"
   },
   "source": [
    "### [B2] ¿Cuál es la distribución para el número de pedidos por cliente?"
   ]
  },
  {
   "cell_type": "code",
   "execution_count": 53,
   "id": "d8c26c23",
   "metadata": {
    "id": "d8c26c23"
   },
   "outputs": [
    {
     "data": {
      "image/png": "[encoded data removed]",
      "text/plain": [
       "<Figure size 720x360 with 1 Axes>"
      ]
     },
     "metadata": {
      "needs_background": "light"
     },
     "output_type": "display_data"
    }
   ],
   "source": [
    "#Grafica la distribución para el número de órdenes que hacen los clientes (es decir, cuántos clientes hicieron solo 1 pedido, cuántos hicieron 2, cuántos 3, y así sucesivamente...).\n",
    "\n",
    "customer_order_counts = df_ordenes.groupby('user_id')['order_number'].count()\n",
    "\n",
    "\n",
    "order_distribution = customer_order_counts.value_counts().sort_index()\n",
    "\n",
    "\n",
    "plt.figure(figsize=(10, 5))\n",
    "order_distribution.plot(kind='bar')\n",
    "plt.title('Distribución del Número de Pedidos por Cliente')\n",
    "plt.xlabel('Número de Pedidos')\n",
    "plt.ylabel('Cantidad de Clientes')\n",
    "ticks = plt.gca().get_xticks()\n",
    "plt.xticks(ticks[::5])  \n",
    "plt.xticks(rotation=90) \n",
    "\n",
    "\n",
    "\n",
    "plt.show()\n"
   ]
  },
  {
   "cell_type": "markdown",
   "id": "d2eff7d5",
   "metadata": {
    "id": "d2eff7d5"
   },
   "source": [
    "Escribe aquí tus conclusiones\n",
    "Una gran cantidad de clientes parecen hacer solo unos pocos pedidos, a medida que aumenta el número de pedidos, la frecuencia de clientes que llegan a ese número disminuye. "
   ]
  },
  {
   "cell_type": "markdown",
   "id": "54a0319c",
   "metadata": {
    "id": "54a0319c"
   },
   "source": [
    "### [B3] ¿Cuáles son los 20 productos más populares (muestra su ID y nombre)?"
   ]
  },
  {
   "cell_type": "code",
   "execution_count": 66,
   "id": "exterior-arizona",
   "metadata": {
    "id": "exterior-arizona",
    "scrolled": true
   },
   "outputs": [
    {
     "name": "stdout",
     "output_type": "stream",
     "text": [
      "                product_name  product_id  order_count\n",
      "0              Organic Lemon        5876        12232\n",
      "1   Apple Honeycrisp Organic        8277        11993\n",
      "2     Bag of Organic Bananas       13176        53297\n",
      "3               Strawberries       16797        20018\n",
      "4       Organic Strawberries       21137        37039\n",
      "5       Organic Baby Spinach       21903        33971\n",
      "6       Organic Yellow Onion       22935        15898\n",
      "7                     Banana       24852        66050\n",
      "8             Organic Garlic       24964        15292\n",
      "9                      Limes       26209        19690\n",
      "10        Organic Whole Milk       27845        19600\n",
      "11       Organic Raspberries       27966        19197\n",
      "12        Organic Fuji Apple       28204        12544\n",
      "13       Organic Blueberries       39275        13879\n",
      "14    Organic Grape Tomatoes       40706        11781\n",
      "15          Organic Zucchini       45007        14584\n",
      "16      Organic Hass Avocado       47209        29773\n",
      "17               Large Lemon       47626        21495\n",
      "18           Organic Avocado       47766        24689\n",
      "19            Cucumber Kirby       49683        13675\n"
     ]
    }
   ],
   "source": [
    "#¿Cuáles son los 20 principales productos que se piden con más frecuencia (muestra su identificación y nombre)?\n",
    "\n",
    "\n",
    "product_counts = df_productos_orden['product_id'].value_counts()\n",
    "\n",
    "\n",
    "top20_product_ids = product_counts.head(20).index\n",
    "\n",
    "\n",
    "top20_products = df_productos[df_productos['product_id'].isin(top20_product_ids)]\n",
    "\n",
    "\n",
    "order_counts_df = product_counts.loc[top20_product_ids].reset_index()\n",
    "order_counts_df.columns = ['product_id', 'order_count']\n",
    "\n",
    "\n",
    "top20_products_merged = pd.merge(top20_products, order_counts_df, on='product_id')\n",
    "\n",
    "\n",
    "print(top20_products_merged[['product_name', 'product_id', 'order_count']])\n",
    "\n",
    "\n"
   ]
  },
  {
   "cell_type": "markdown",
   "id": "7df00f47",
   "metadata": {
    "id": "7df00f47"
   },
   "source": [
    "Escribe aquí tus conclusiones\n",
    "Hay una clara tendencia hacia productos orgánicos, ya que estos son los mas populares. Los artículos más comunes en esta lista son frutas y verduras frescas, también se observa una demanda significativa de productos lácteos orgánicos, "
   ]
  },
  {
   "cell_type": "markdown",
   "id": "gross-theme",
   "metadata": {
    "id": "gross-theme"
   },
   "source": [
    "# [C] Difícil (deben completarse todos para aprobar)\n",
    "\n",
    "1. ¿Cuántos artículos suelen comprar las personas en un pedido? ¿Cómo es la distribución?\n",
    "2. ¿Cuáles son los 20 principales artículos que vuelven a pedirse con mayor frecuencia (muestra sus nombres e IDs de los productos)?\n",
    "3. Para cada producto, ¿cuál es la tasa de repetición del pedido (número de repeticiones de pedido/total de pedidos?\n",
    "4. Para cada cliente, ¿qué proporción de los productos que pidió ya los había pedido? Calcula la tasa de repetición de pedido para cada usuario en lugar de para cada producto.\n",
    "5. ¿Cuáles son los 20 principales artículos que la gente pone primero en sus carritos (muestra las IDs de los productos, sus nombres, y el número de veces en que fueron el primer artículo en añadirse al carrito)?"
   ]
  },
  {
   "cell_type": "markdown",
   "id": "romantic-deposit",
   "metadata": {
    "id": "romantic-deposit"
   },
   "source": [
    "### [C1] ¿Cuántos artículos compran normalmente las personas en un pedido? ¿Cómo es la distribución?"
   ]
  },
  {
   "cell_type": "code",
   "execution_count": 44,
   "id": "virtual-punch",
   "metadata": {
    "id": "virtual-punch"
   },
   "outputs": [
    {
     "data": {
      "image/png": "[encoded data removed]",
      "text/plain": [
       "<Figure size 864x432 with 1 Axes>"
      ]
     },
     "metadata": {
      "needs_background": "light"
     },
     "output_type": "display_data"
    },
    {
     "name": "stdout",
     "output_type": "stream",
     "text": [
      "count    450046.000000\n",
      "mean         10.098983\n",
      "std           7.540206\n",
      "min           1.000000\n",
      "25%           5.000000\n",
      "50%           8.000000\n",
      "75%          14.000000\n",
      "max         127.000000\n",
      "Name: product_id, dtype: float64\n"
     ]
    }
   ],
   "source": [
    "items_per_order = df_productos_orden.groupby('order_id')['product_id'].count()\n",
    "\n",
    "\n",
    "plt.figure(figsize=(12, 6))\n",
    "items_per_order.hist(bins=range(1,61), edgecolor='black')  \n",
    "plt.title('Distribución del Número de Artículos por Pedido')\n",
    "plt.xlabel('Número de Artículos')\n",
    "plt.ylabel('Frecuencia de Pedidos')\n",
    "plt.show()\n",
    "\n",
    "\n",
    "print(items_per_order.describe())"
   ]
  },
  {
   "cell_type": "markdown",
   "id": "7c0ef2b3",
   "metadata": {
    "id": "sensitive-breathing"
   },
   "source": [
    "<div class=\"alert alert-block alert-success\">\n",
    "<b>Comentario del revisor</b> <a class=\"tocSkip\"></a>\n",
    "    \n",
    "Buen trabajo.\n",
    "</div>"
   ]
  },
  {
   "cell_type": "code",
   "execution_count": null,
   "id": "completed-frank",
   "metadata": {
    "id": "completed-frank"
   },
   "outputs": [],
   "source": []
  },
  {
   "cell_type": "markdown",
   "id": "designed-mortality",
   "metadata": {
    "id": "designed-mortality"
   },
   "source": [
    "Escribe aquí tus conclusiones\n",
    "El hecho de que haya un valor maximo de 127 es interesante ya que es un valor atipico y bastante lejos de nuestro promedio, hay muchos pedidos pequeños y pocos pedidos grandes, tenemos que la cantidad 4,5,6,7 articulos sobre pasan los 30,000 pedidos."
   ]
  },
  {
   "cell_type": "markdown",
   "id": "5e6b5537",
   "metadata": {
    "id": "5e6b5537"
   },
   "source": [
    "### [C2] ¿Cuáles son los 20 principales artículos que vuelven a pedirse con mayor frecuencia (muestra sus nombres e IDs de los productos)?"
   ]
  },
  {
   "cell_type": "code",
   "execution_count": 45,
   "id": "9374e55a",
   "metadata": {
    "id": "9374e55a"
   },
   "outputs": [
    {
     "name": "stdout",
     "output_type": "stream",
     "text": [
      "                   product_name  reorder_count\n",
      "24852                    Banana          55763\n",
      "13176    Bag of Organic Bananas          44450\n",
      "21137      Organic Strawberries          28639\n",
      "21903      Organic Baby Spinach          26233\n",
      "47209      Organic Hass Avocado          23629\n",
      "47766           Organic Avocado          18743\n",
      "27845        Organic Whole Milk          16251\n",
      "47626               Large Lemon          15044\n",
      "27966       Organic Raspberries          14748\n",
      "16797              Strawberries          13945\n",
      "26209                     Limes          13327\n",
      "22935      Organic Yellow Onion          11145\n",
      "24964            Organic Garlic          10411\n",
      "45007          Organic Zucchini          10076\n",
      "49683            Cucumber Kirby           9538\n",
      "28204        Organic Fuji Apple           8989\n",
      "8277   Apple Honeycrisp Organic           8836\n",
      "39275       Organic Blueberries           8799\n",
      "5876              Organic Lemon           8412\n",
      "49235       Organic Half & Half           8389\n"
     ]
    }
   ],
   "source": [
    "\n",
    "reordered = df_productos_orden[df_productos_orden['reordered'] == 1]\n",
    "\n",
    "reorder_counts = reordered['product_id'].value_counts()\n",
    "\n",
    "\n",
    "top20_reorders = reorder_counts.head(20)\n",
    "\n",
    "\n",
    "top20_reordered_names = df_productos[df_productos['product_id'].isin(top20_reorders.index)]\n",
    "\n",
    "\n",
    "top20_reordered = top20_reordered_names.set_index('product_id').reindex(top20_reorders.index)\n",
    "top20_reordered['reorder_count'] = top20_reorders.values\n",
    "\n",
    "\n",
    "print(top20_reordered[['product_name', 'reorder_count']])\n"
   ]
  },
  {
   "cell_type": "code",
   "execution_count": null,
   "id": "possible-change",
   "metadata": {
    "id": "possible-change",
    "scrolled": true
   },
   "outputs": [],
   "source": []
  },
  {
   "cell_type": "code",
   "execution_count": null,
   "id": "professional-surfing",
   "metadata": {
    "id": "professional-surfing",
    "scrolled": true
   },
   "outputs": [],
   "source": []
  },
  {
   "cell_type": "code",
   "execution_count": null,
   "id": "48dd3658",
   "metadata": {
    "id": "48dd3658"
   },
   "outputs": [],
   "source": []
  },
  {
   "cell_type": "markdown",
   "id": "80e70c74",
   "metadata": {
    "id": "80e70c74"
   },
   "source": [
    "Escribe aquí tus conclusiones \n",
    "bueno es interesante ver como los productos organicos y la frutas en especial la banana son los productos que mas se vuleven a pedir, esto nos dice que el platano de la tienda es de calidad y como los usuarios tienen preferencias por lo natural y saludable. "
   ]
  },
  {
   "cell_type": "markdown",
   "id": "9d312b14",
   "metadata": {
    "id": "9d312b14"
   },
   "source": [
    "### [C3] Para cada producto, ¿cuál es la proporción de las veces que se pide y que se vuelve a pedir?"
   ]
  },
  {
   "cell_type": "code",
   "execution_count": 46,
   "id": "8ae9f4b1",
   "metadata": {
    "id": "8ae9f4b1"
   },
   "outputs": [
    {
     "name": "stdout",
     "output_type": "stream",
     "text": [
      "                                            product_name  reorder_ratio\n",
      "12037           for Women Maximum Absorbency L Underwear            1.0\n",
      "1808   Slow Kettle Style Santa Fe Chicken Enchilada S...            1.0\n",
      "36121                                  Spicy Chili Beans            1.0\n",
      "3204             Original Pure Chocolate Whippet Cookies            1.0\n",
      "41900   Moisturizing Lotionized Shave Gel with Vitamin E            1.0\n",
      "46397                          Chocolate Animal Crackers            1.0\n",
      "10377                         Honey Flake & Oat Clusters            1.0\n",
      "31025                            Drinkable Yogurt- Mango            1.0\n",
      "46436            Spinach Saag Medium Indian Simmer Sauce            1.0\n",
      "20786                             West Coast Style Stout            1.0\n",
      "1813               Austin's Own Goodflow Honey Green Tea            1.0\n",
      "46444                             Organic Tropical Mango            1.0\n",
      "29167                              Beef Chuck Short Ribs            1.0\n",
      "25776                            Instant Nonfat Dry Milk            1.0\n",
      "43894                               Sugar Land Sweet Tea            1.0\n",
      "31010  Natural Instincts Non-Permanent Hair Color Cin...            1.0\n",
      "6489   Vitamin D3 1000 IU in Extra Virgin Olive Oil S...            1.0\n",
      "1805               Strawberry Unsweetened Soft Drink Mix            1.0\n",
      "1804              Organic Lemon Agave Ginger Super Juice            1.0\n",
      "16105                                          Budweiser            1.0\n",
      "                                            product_name  reorder_ratio\n",
      "49572                      That's My Jam™ Core Ice Cream       0.333333\n",
      "41520                              Masala Veggies Paneer       0.200000\n",
      "20172    Three Sisters- Medium Roast Organic Whole Beans       1.000000\n",
      "20734                           Organic Green Split Peas       0.250000\n",
      "19543                         All Natural Virgin Limeade            NaN\n",
      "29492          Party Mix Crunch Morning Munch Cat Treats       0.600000\n",
      "6192            Organic Fancy Shredded Mozzarella Cheese       0.510638\n",
      "12709                  Garlic Parmesan Popcorn Seasoning       0.250000\n",
      "38503                                     Belgian Endive       0.524590\n",
      "33947  To Go Lunch Containers With Lids- Medium Round...       0.212121\n",
      "48290                         Organic Tree Ripened Plums       0.589041\n",
      "178                            Penne Rigate With Spinach       0.500000\n",
      "19016                                 Sweet Potato Chips       0.407407\n",
      "7421              Black Tea- Invigorating- Organic Peach            NaN\n",
      "4667                             Sun Ripened Dried Pesto       0.500000\n",
      "30065                                    Classic Granola       0.492537\n",
      "5217                           Black Bean Chipotle Vegan       0.285714\n",
      "46621                          Hibiscus Sangria Iced Tea            NaN\n",
      "33765             Intense Dark Chocolate Hazelnut Heaven       0.250000\n",
      "40001                               Strawberry Ice Cream       0.461171\n"
     ]
    }
   ],
   "source": [
    "\n",
    "total_order_counts = df_productos_orden['product_id'].value_counts()\n",
    "\n",
    "\n",
    "total_reorder_counts = df_productos_orden[df_productos_orden['reordered'] == 1]['product_id'].value_counts()\n",
    "\n",
    "\n",
    "product_reorder_proportions = pd.DataFrame({\n",
    "    'total_orders': total_order_counts,\n",
    "    'total_reorders': total_reorder_counts\n",
    "})\n",
    "\n",
    "\n",
    "product_reorder_proportions['reorder_ratio'] = (product_reorder_proportions['total_reorders'] /\n",
    "                                                product_reorder_proportions['total_orders'])\n",
    "\n",
    "\n",
    "product_reorder_proportions = product_reorder_proportions.merge(df_productos[['product_id', 'product_name']],\n",
    "                                                                left_index=True, right_on='product_id')\n",
    "\n",
    "\n",
    "product_reorder_proportions.sort_values(by='reorder_ratio', ascending=False, inplace=True)\n",
    "\n",
    "\n",
    "print(product_reorder_proportions[['product_name', 'reorder_ratio']].head(20))\n",
    "print(product_reorder_proportions[['product_name', 'reorder_ratio']].sample(20))\n"
   ]
  },
  {
   "cell_type": "markdown",
   "id": "e023ce69",
   "metadata": {
    "id": "103e7fe1"
   },
   "source": [
    "<div class=\"alert alert-block alert-success\">\n",
    "<b>Comentario del revisor</b> <a class=\"tocSkip\"></a>\n",
    "\n",
    "Buen trabajo.\n",
    "</div>"
   ]
  },
  {
   "cell_type": "markdown",
   "id": "I10dEIAyldcO",
   "metadata": {
    "id": "I10dEIAyldcO"
   },
   "source": [
    "Escribe aquí tus conclusiones\n",
    " Un reorder_ratio de 1.0 indica que cada vez que estos productos fueron comprados, siempre fueron reordenados. esto los podemos considerar como datos atipicos ya que no nos dice ni una tendencia, a no ser que estos productos sean nuevo o muy pocos comunes. use el sample para asegurarme de que no haya nada mal con los datos y los nan no preocupan por que puede ser que el producto solo se ha comprado una vez."
   ]
  },
  {
   "cell_type": "markdown",
   "id": "subject-boxing",
   "metadata": {
    "id": "subject-boxing"
   },
   "source": [
    "### [C4] Para cada cliente, ¿qué proporción de sus productos ya los había pedido?"
   ]
  },
  {
   "cell_type": "code",
   "execution_count": 67,
   "id": "medical-couple",
   "metadata": {
    "id": "medical-couple",
    "scrolled": true
   },
   "outputs": [
    {
     "name": "stdout",
     "output_type": "stream",
     "text": [
      "user_id\n",
      "2    0.038462\n",
      "4    0.000000\n",
      "5    0.666667\n",
      "6    0.000000\n",
      "7    0.928571\n",
      "Name: reorder_ratio, dtype: float64\n"
     ]
    }
   ],
   "source": [
    "\n",
    "\n",
    "df_merged_orders = pd.merge(df_productos_orden, df_ordenes, on='order_id')\n",
    "\n",
    "\n",
    "total_products_by_customer = df_merged_orders.groupby('user_id')['product_id'].count()\n",
    "\n",
    "\n",
    "total_reorders_by_customer = df_merged_orders[df_merged_orders['reordered'] == 1].groupby('user_id')['product_id'].count()\n",
    "\n",
    "\n",
    "total_reorders_by_customer = total_reorders_by_customer.reindex(total_products_by_customer.index, fill_value=0)\n",
    "\n",
    "\n",
    "customers_reorder_ratio = pd.DataFrame({\n",
    "    'total_products': total_products_by_customer,\n",
    "    'total_reorders': total_reorders_by_customer\n",
    "})\n",
    "\n",
    "\n",
    "customers_reorder_ratio['reorder_ratio'] = customers_reorder_ratio['total_reorders'] / customers_reorder_ratio['total_products']\n",
    "\n",
    "\n",
    "print(customers_reorder_ratio['reorder_ratio'].head())\n",
    "\n",
    "\n",
    "\n",
    "\n",
    "\n"
   ]
  },
  {
   "cell_type": "markdown",
   "id": "BgJSvXDsleXz",
   "metadata": {
    "id": "BgJSvXDsleXz"
   },
   "source": [
    "Escribe aquí tus conclusiones estos números proporcionan información sobre cómo los diferentes clientes interactúan con la plataforma. Clientes con una alta proporción de reordenes pueden ser considerados clientes leales o satisfechos, mientras que aquellos con proporciones bajas podrían ser nuevos usuarios, usuarios que prefieren la variedad, o usuarios que no están completamente satisfecho"
   ]
  },
  {
   "cell_type": "markdown",
   "id": "92d35137",
   "metadata": {
    "id": "92d35137"
   },
   "source": [
    "### [C5] ¿Cuáles son los 20 principales artículos que las personas ponen primero en sus carritos?"
   ]
  },
  {
   "cell_type": "code",
   "execution_count": null,
   "id": "0ae57274",
   "metadata": {
    "id": "0ae57274",
    "scrolled": true
   },
   "outputs": [],
   "source": [
    "\n",
    "first_in_cart = df_productos_orden[df_productos_orden['add_to_cart_order'] == 1]\n",
    "\n",
    "\n",
    "first_in_cart_counts = first_in_cart['product_id'].value_counts()\n",
    "\n",
    "\n",
    "top20_first_in_cart = first_in_cart_counts.head(20)\n",
    "\n",
    "\n",
    "top20_first_in_cart_names = df_productos[df_productos['product_id'].isin(top20_first_in_cart.index)]\n",
    "\n",
    "\n",
    "top20_first_in_cart_products = top20_first_in_cart_names.merge(\n",
    "    top20_first_in_cart.rename('first_in_cart_count'), left_on='product_id', right_index=True)\n",
    "\n",
    "\n",
    "top20_first_in_cart_products[['product_name', 'first_in_cart_count']]\n"
   ]
  },
  {
   "cell_type": "markdown",
   "id": "19aa0412",
   "metadata": {
    "id": "forty-netherlands",
    "scrolled": true
   },
   "source": [
    "<div class=\"alert alert-block alert-success\">\n",
    "<b>Comentario del revisor</b> <a class=\"tocSkip\"></a>\n",
    "    \n",
    "Buen trabajo.\n",
    "</div>"
   ]
  },
  {
   "cell_type": "code",
   "execution_count": null,
   "id": "08e41ec2",
   "metadata": {
    "id": "08e41ec2"
   },
   "outputs": [],
   "source": []
  },
  {
   "cell_type": "markdown",
   "id": "28ce9872",
   "metadata": {
    "id": "28ce9872"
   },
   "source": [
    "Escribe aquí tus conclusiones\n",
    "estos son los 20 productos principales que los clientes de Instacart suelen poner primero en sus carritos de compras. La columna first_in_cart_count indica la cantidad de veces que cada producto fue el primer artículo añadido al carrito en los pedidos. \n",
    "Hay una clara preferencia por productos frescos y orgánicos, Los productos como \"Bananas\", \"Strawberries\", y \"Limes\" son muy populares. "
   ]
  },
  {
   "cell_type": "markdown",
   "id": "uITbFCEoDosC",
   "metadata": {
    "id": "uITbFCEoDosC"
   },
   "source": [
    "### Conclusion general del proyecto:"
   ]
  },
  {
   "cell_type": "markdown",
   "id": "29b46d5b",
   "metadata": {
    "id": "Nk-4GS7mDwqY"
   },
   "source": [
    "Los DataFrames mostraron consistencia en su estructura, con algunos valores nulos y problemas de formato que fueron tratados adecuadamente.\n",
    "Especialmente, la gestión de datos nulos en df_productos y df_ordenes proporcionó una base sólida para el análisis subsiguiente.\n",
    "\n",
    "Se observó una clara preferencia por productos frescos y orgánicos, con frutas y verduras frescas como los artículos \n",
    "más populares. Las horas pico de pedidos se ubicaron entre las 9 a.m. y las 4 p.m., mientras que los domingos y lunes\n",
    "se identificaron como los días de mayor actividad de compra.\n",
    "Además, se notó que los primeros días de cada mes presentaban una frecuencia más alta de pedidos.\n",
    "\n",
    "La proporción de reordenamiento de productos ofreció insights valiosos sobre la lealtad del cliente y la \n",
    "satisfacción con los productos. Los productos orgánicos y saludables mostraron altas tasas de reorden, \n",
    "indicando su popularidad y aceptación entre los clientes de Instacart.\n",
    "\n",
    "asegurar la disponibilidad de productos orgánicos y frutas frescas podría ser una prioridad, \n",
    "dada su alta demanda y frecuencia de reorden.\n",
    "\n",
    "\n",
    "\n",
    "\n",
    "\n"
   ]
  },
  {
   "cell_type": "markdown",
   "id": "05b48282",
   "metadata": {},
   "source": [
    "<div class=\"alert alert-block alert-danger\">\n",
    "    \n",
    "# Comentarios generales\n",
    "    \n",
    "<b>Comentario del revisor</b> <a class=\"tocSkip\"></a>\n",
    "    \n",
    "Buen trabajo, José. Nos quedan algunos elementos tanto de forma como de fondo que debemos resolver antes de poder aprobar tu proyecto. He dejado comentarios a lo largo del documento para ello.\n",
    "</div>"
   ]
  },
  {
   "cell_type": "markdown",
   "id": "fde96b45",
   "metadata": {},
   "source": [
    "<div class=\"alert alert-block alert-success\">\n",
    "    \n",
    "# Comentarios generales\n",
    "    \n",
    "<b>Comentario del revisor</b> <a class=\"tocSkip\"></a>\n",
    "    \n",
    "Todo corregido. Has aprobado un nuevo proyecto. ¡Felicitaciones!\n",
    "</div>"
   ]
  }
 ],
 "metadata": {
  "colab": {
   "provenance": []
  },
  "kernelspec": {
   "display_name": "Python 3 (ipykernel)",
   "language": "python",
   "name": "python3"
  },
  "language_info": {
   "codemirror_mode": {
    "name": "ipython",
    "version": 3
   },
   "file_extension": ".py",
   "mimetype": "text/x-python",
   "name": "python",
   "nbconvert_exporter": "python",
   "pygments_lexer": "ipython3",
   "version": "3.9.5"
  },
  "toc": {
   "base_numbering": 1,
   "nav_menu": {},
   "number_sections": true,
   "sideBar": true,
   "skip_h1_title": true,
   "title_cell": "Table of Contents",
   "title_sidebar": "Contents",
   "toc_cell": false,
   "toc_position": {},
   "toc_section_display": true,
   "toc_window_display": false
  },
  "vscode": {
   "interpreter": {
    "hash": "01a7be9ec63e704a62cefc5fe7a4756944464ee731be31632bdf42a4cb4688cf"
   }
  }
 },
 "nbformat": 4,
 "nbformat_minor": 5
}
